version https://git-lfs.github.com/spec/v1
oid sha256:bff2f240fd96c04b7505b5f2944d09f659e5811f2a1c5966ebd575c8ee4c1688
size 20675
